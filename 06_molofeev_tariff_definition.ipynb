{
 "cells": [
  {
   "cell_type": "markdown",
   "metadata": {},
   "source": [
    "# Рекомендация тарифов"
   ]
  },
  {
   "cell_type": "markdown",
   "metadata": {},
   "source": [
    "В вашем распоряжении данные о поведении клиентов, которые уже перешли на эти тарифы (из проекта курса «Статистический анализ данных»). Нужно построить модель для задачи классификации, которая выберет подходящий тариф. Предобработка данных не понадобится — вы её уже сделали.\n",
    "\n",
    "Постройте модель с максимально большим значением *accuracy*. Чтобы сдать проект успешно, нужно довести долю правильных ответов по крайней мере до 0.75. Проверьте *accuracy* на тестовой выборке самостоятельно."
   ]
  },
  {
   "cell_type": "markdown",
   "metadata": {},
   "source": [
    "**Описание данных**\n",
    "\n",
    "Каждый объект в наборе данных — это информация о поведении одного пользователя за месяц. Известно:\n",
    "\n",
    "- сalls — количество звонков,\n",
    "- minutes — суммарная длительность звонков в минутах,\n",
    "- messages — количество sms-сообщений,\n",
    "- mb_used — израсходованный интернет-трафик в Мб,\n",
    "- is_ultra — каким тарифом пользовался в течение месяца («Ультра» — 1, «Смарт» — 0)."
   ]
  },
  {
   "cell_type": "markdown",
   "metadata": {},
   "source": [
    "**Цель исследования**\n",
    "\n",
    "Построить модель с максимально большим значением accuracy, доведя долю правильных ответов по крайней мере до 0.75. \n",
    "\n",
    "**Ход исследования**\n",
    "\n",
    "Данные о тарифах получены их файла `datasets/users_behavior.csv`. В проекте мы изучим данные, разделим файлы на выборки, исследуем разлчные модели, проверим качество на тестовой выборке, а также проведем исследование на вменяемость модели.\n",
    "\n",
    "Таким образом, исследование прйдет в ряд этапов:\n",
    "- открытие файла и изучение данных; \n",
    "- разделение исходных данных на обучающую, валидационную и тестовую выборки;\n",
    "- исследование качества разных моделей, выбор модели с наибольшим *accuracy*;\n",
    "- проверка качества наилучшей модели на тестовой выборке;\n",
    "- проверка модели на вменяемость;\n",
    "- формулировка выводов."
   ]
  },
  {
   "cell_type": "markdown",
   "metadata": {},
   "source": [
    "## Откройте и изучите файл"
   ]
  },
  {
   "cell_type": "markdown",
   "metadata": {},
   "source": [
    "Предварительно загрузим необходимые в работе библиотеки."
   ]
  },
  {
   "cell_type": "code",
   "execution_count": 1,
   "metadata": {},
   "outputs": [],
   "source": [
    "import pandas as pd\n",
    "import numpy as np\n",
    "import seaborn as sns\n",
    "from sklearn.tree import DecisionTreeClassifier\n",
    "from sklearn import tree\n",
    "from sklearn.ensemble import RandomForestClassifier\n",
    "from sklearn.linear_model import LogisticRegression \n",
    "from sklearn.dummy import DummyClassifier\n",
    "from sklearn.model_selection import train_test_split\n",
    "from sklearn import metrics"
   ]
  },
  {
   "cell_type": "markdown",
   "metadata": {},
   "source": [
    "Далее откроем файл `users_behavior.csv` и посмотрим на его данные с помощью раличных методов *pandas*."
   ]
  },
  {
   "cell_type": "code",
   "execution_count": 2,
   "metadata": {
    "scrolled": true
   },
   "outputs": [
    {
     "data": {
      "text/html": [
       "<div>\n",
       "<style scoped>\n",
       "    .dataframe tbody tr th:only-of-type {\n",
       "        vertical-align: middle;\n",
       "    }\n",
       "\n",
       "    .dataframe tbody tr th {\n",
       "        vertical-align: top;\n",
       "    }\n",
       "\n",
       "    .dataframe thead th {\n",
       "        text-align: right;\n",
       "    }\n",
       "</style>\n",
       "<table border=\"1\" class=\"dataframe\">\n",
       "  <thead>\n",
       "    <tr style=\"text-align: right;\">\n",
       "      <th></th>\n",
       "      <th>calls</th>\n",
       "      <th>minutes</th>\n",
       "      <th>messages</th>\n",
       "      <th>mb_used</th>\n",
       "      <th>is_ultra</th>\n",
       "    </tr>\n",
       "  </thead>\n",
       "  <tbody>\n",
       "    <tr>\n",
       "      <th>0</th>\n",
       "      <td>40.0</td>\n",
       "      <td>311.90</td>\n",
       "      <td>83.0</td>\n",
       "      <td>19915.42</td>\n",
       "      <td>0</td>\n",
       "    </tr>\n",
       "    <tr>\n",
       "      <th>1</th>\n",
       "      <td>85.0</td>\n",
       "      <td>516.75</td>\n",
       "      <td>56.0</td>\n",
       "      <td>22696.96</td>\n",
       "      <td>0</td>\n",
       "    </tr>\n",
       "    <tr>\n",
       "      <th>2</th>\n",
       "      <td>77.0</td>\n",
       "      <td>467.66</td>\n",
       "      <td>86.0</td>\n",
       "      <td>21060.45</td>\n",
       "      <td>0</td>\n",
       "    </tr>\n",
       "    <tr>\n",
       "      <th>3</th>\n",
       "      <td>106.0</td>\n",
       "      <td>745.53</td>\n",
       "      <td>81.0</td>\n",
       "      <td>8437.39</td>\n",
       "      <td>1</td>\n",
       "    </tr>\n",
       "    <tr>\n",
       "      <th>4</th>\n",
       "      <td>66.0</td>\n",
       "      <td>418.74</td>\n",
       "      <td>1.0</td>\n",
       "      <td>14502.75</td>\n",
       "      <td>0</td>\n",
       "    </tr>\n",
       "  </tbody>\n",
       "</table>\n",
       "</div>"
      ],
      "text/plain": [
       "   calls  minutes  messages   mb_used  is_ultra\n",
       "0   40.0   311.90      83.0  19915.42         0\n",
       "1   85.0   516.75      56.0  22696.96         0\n",
       "2   77.0   467.66      86.0  21060.45         0\n",
       "3  106.0   745.53      81.0   8437.39         1\n",
       "4   66.0   418.74       1.0  14502.75         0"
      ]
     },
     "execution_count": 2,
     "metadata": {},
     "output_type": "execute_result"
    }
   ],
   "source": [
    "try:\n",
    "    df = pd.read_csv('https://code.s3.yandex.net/datasets/users_behavior.csv')\n",
    "except:\n",
    "    df = pd.read_csv('D:/learn_data/users_behavior.csv')\n",
    "\n",
    "df.head()"
   ]
  },
  {
   "cell_type": "code",
   "execution_count": 3,
   "metadata": {},
   "outputs": [
    {
     "name": "stdout",
     "output_type": "stream",
     "text": [
      "<class 'pandas.core.frame.DataFrame'>\n",
      "RangeIndex: 3214 entries, 0 to 3213\n",
      "Data columns (total 5 columns):\n",
      " #   Column    Non-Null Count  Dtype  \n",
      "---  ------    --------------  -----  \n",
      " 0   calls     3214 non-null   float64\n",
      " 1   minutes   3214 non-null   float64\n",
      " 2   messages  3214 non-null   float64\n",
      " 3   mb_used   3214 non-null   float64\n",
      " 4   is_ultra  3214 non-null   int64  \n",
      "dtypes: float64(4), int64(1)\n",
      "memory usage: 125.7 KB\n"
     ]
    }
   ],
   "source": [
    "df.info()"
   ]
  },
  {
   "cell_type": "code",
   "execution_count": 4,
   "metadata": {
    "scrolled": false
   },
   "outputs": [
    {
     "data": {
      "text/html": [
       "<div>\n",
       "<style scoped>\n",
       "    .dataframe tbody tr th:only-of-type {\n",
       "        vertical-align: middle;\n",
       "    }\n",
       "\n",
       "    .dataframe tbody tr th {\n",
       "        vertical-align: top;\n",
       "    }\n",
       "\n",
       "    .dataframe thead th {\n",
       "        text-align: right;\n",
       "    }\n",
       "</style>\n",
       "<table border=\"1\" class=\"dataframe\">\n",
       "  <thead>\n",
       "    <tr style=\"text-align: right;\">\n",
       "      <th></th>\n",
       "      <th>calls</th>\n",
       "      <th>minutes</th>\n",
       "      <th>messages</th>\n",
       "      <th>mb_used</th>\n",
       "      <th>is_ultra</th>\n",
       "    </tr>\n",
       "  </thead>\n",
       "  <tbody>\n",
       "    <tr>\n",
       "      <th>count</th>\n",
       "      <td>3214.000000</td>\n",
       "      <td>3214.000000</td>\n",
       "      <td>3214.000000</td>\n",
       "      <td>3214.000000</td>\n",
       "      <td>3214.000000</td>\n",
       "    </tr>\n",
       "    <tr>\n",
       "      <th>mean</th>\n",
       "      <td>63.038892</td>\n",
       "      <td>438.208787</td>\n",
       "      <td>38.281269</td>\n",
       "      <td>17207.673836</td>\n",
       "      <td>0.306472</td>\n",
       "    </tr>\n",
       "    <tr>\n",
       "      <th>std</th>\n",
       "      <td>33.236368</td>\n",
       "      <td>234.569872</td>\n",
       "      <td>36.148326</td>\n",
       "      <td>7570.968246</td>\n",
       "      <td>0.461100</td>\n",
       "    </tr>\n",
       "    <tr>\n",
       "      <th>min</th>\n",
       "      <td>0.000000</td>\n",
       "      <td>0.000000</td>\n",
       "      <td>0.000000</td>\n",
       "      <td>0.000000</td>\n",
       "      <td>0.000000</td>\n",
       "    </tr>\n",
       "    <tr>\n",
       "      <th>25%</th>\n",
       "      <td>40.000000</td>\n",
       "      <td>274.575000</td>\n",
       "      <td>9.000000</td>\n",
       "      <td>12491.902500</td>\n",
       "      <td>0.000000</td>\n",
       "    </tr>\n",
       "    <tr>\n",
       "      <th>50%</th>\n",
       "      <td>62.000000</td>\n",
       "      <td>430.600000</td>\n",
       "      <td>30.000000</td>\n",
       "      <td>16943.235000</td>\n",
       "      <td>0.000000</td>\n",
       "    </tr>\n",
       "    <tr>\n",
       "      <th>75%</th>\n",
       "      <td>82.000000</td>\n",
       "      <td>571.927500</td>\n",
       "      <td>57.000000</td>\n",
       "      <td>21424.700000</td>\n",
       "      <td>1.000000</td>\n",
       "    </tr>\n",
       "    <tr>\n",
       "      <th>max</th>\n",
       "      <td>244.000000</td>\n",
       "      <td>1632.060000</td>\n",
       "      <td>224.000000</td>\n",
       "      <td>49745.730000</td>\n",
       "      <td>1.000000</td>\n",
       "    </tr>\n",
       "  </tbody>\n",
       "</table>\n",
       "</div>"
      ],
      "text/plain": [
       "             calls      minutes     messages       mb_used     is_ultra\n",
       "count  3214.000000  3214.000000  3214.000000   3214.000000  3214.000000\n",
       "mean     63.038892   438.208787    38.281269  17207.673836     0.306472\n",
       "std      33.236368   234.569872    36.148326   7570.968246     0.461100\n",
       "min       0.000000     0.000000     0.000000      0.000000     0.000000\n",
       "25%      40.000000   274.575000     9.000000  12491.902500     0.000000\n",
       "50%      62.000000   430.600000    30.000000  16943.235000     0.000000\n",
       "75%      82.000000   571.927500    57.000000  21424.700000     1.000000\n",
       "max     244.000000  1632.060000   224.000000  49745.730000     1.000000"
      ]
     },
     "execution_count": 4,
     "metadata": {},
     "output_type": "execute_result"
    }
   ],
   "source": [
    "df.describe()"
   ]
  },
  {
   "cell_type": "markdown",
   "metadata": {},
   "source": [
    "Как мы видим, по сути колонки `'calls'` и `'messages'` содержат целые числа (что логично, так как нельзя сделать ползвонка или отправить четверть сообщения), в связи с чем для удобства переведем тип данных в этих колонках в `int`."
   ]
  },
  {
   "cell_type": "code",
   "execution_count": 5,
   "metadata": {
    "scrolled": true
   },
   "outputs": [
    {
     "name": "stdout",
     "output_type": "stream",
     "text": [
      "<class 'pandas.core.frame.DataFrame'>\n",
      "RangeIndex: 3214 entries, 0 to 3213\n",
      "Data columns (total 5 columns):\n",
      " #   Column    Non-Null Count  Dtype  \n",
      "---  ------    --------------  -----  \n",
      " 0   calls     3214 non-null   int64  \n",
      " 1   minutes   3214 non-null   float64\n",
      " 2   messages  3214 non-null   int64  \n",
      " 3   mb_used   3214 non-null   float64\n",
      " 4   is_ultra  3214 non-null   int64  \n",
      "dtypes: float64(2), int64(3)\n",
      "memory usage: 125.7 KB\n"
     ]
    }
   ],
   "source": [
    "df['calls'] = df['calls'].astype('int')\n",
    "df['messages'] = df['messages'].astype('int')\n",
    "df.info()"
   ]
  },
  {
   "cell_type": "markdown",
   "metadata": {},
   "source": [
    "Хоть у нас и сказано, что предобработка данных не требуется, но, на всякий случай, проверим датафрейм на отсутствие дубликатов. "
   ]
  },
  {
   "cell_type": "code",
   "execution_count": 6,
   "metadata": {},
   "outputs": [
    {
     "data": {
      "text/plain": [
       "0"
      ]
     },
     "execution_count": 6,
     "metadata": {},
     "output_type": "execute_result"
    }
   ],
   "source": [
    "df.duplicated().sum()"
   ]
  },
  {
   "cell_type": "markdown",
   "metadata": {},
   "source": [
    "**Вывод:** Как мы видим, у нас имеется база данных, содержащая сведения о 2314 случаях, в которых имееются сведения о звонках, их продолжительности, сообщениях и трафике, а также об использовавшемся тарифе (что и является целевым признаком исследования). В тоже время следует заметить, что данные по тарифам неравномерны, а разделены в соотношении примерно 3 к 7, поскольку тариф \"Ультра\" использовался лишь чуть более 30% пользователей, тогда как остальные использовали тариф \"Смарт\" (это создаст некоторые сложности и при проверке модели на адекватность, но данный вопрос будем решать позже).  "
   ]
  },
  {
   "cell_type": "code",
   "execution_count": 7,
   "metadata": {},
   "outputs": [
    {
     "name": "stdout",
     "output_type": "stream",
     "text": [
      "Коэффициент корреляции показателя is_ultra от столбца calls составляет: 0.2071215589860754\n",
      "Коэффициент корреляции показателя is_ultra от столбца minutes составляет: 0.206954638121695\n",
      "Коэффициент корреляции показателя is_ultra от столбца messages составляет: 0.20382983853553618\n",
      "Коэффициент корреляции показателя is_ultra от столбца mb_used составляет: 0.1985676456197425\n",
      "Коэффициент корреляции показателя mb_used от столбца calls составляет: 0.2864415120350544\n",
      "Коэффициент корреляции показателя mb_used от столбца minutes составляет: 0.2809669350882149\n",
      "Коэффициент корреляции показателя mb_used от столбца messages составляет: 0.19572112095582148\n",
      "Коэффициент корреляции показателя messages от столбца calls составляет: 0.1773845012176953\n",
      "Коэффициент корреляции показателя messages от столбца minutes составляет: 0.17311022580969077\n",
      "Коэффициент корреляции показателя minutes от столбца calls составляет: 0.9820832355742293\n"
     ]
    }
   ],
   "source": [
    "short_list = ['calls', 'minutes', 'messages', 'mb_used', 'is_ultra']\n",
    "while len(short_list) > 1:\n",
    "    for i in range(len(short_list) - 1):\n",
    "        print(f'Коэффициент корреляции показателя {short_list[-1]} от столбца {short_list[i]} составляет: {df[short_list[-1]].corr(df[short_list[i]])}')\n",
    "    short_list.pop()"
   ]
  },
  {
   "cell_type": "markdown",
   "metadata": {},
   "source": [
    "## Разбейте данные на выборки"
   ]
  },
  {
   "cell_type": "markdown",
   "metadata": {},
   "source": [
    "С учетом того, что нам необходимо разделить данные на три выборки (обучающую, валидационную и тестовую), предлагаю разделить их в соотношении **3 : 1 : 1** (для чего необходимо выделить 20% данных для тестовой выборки, а остальные 80% разделить в соотношении 1 (валидационная часть) : 3 (обучающая часть)). Также сразу же подготовим данные к обучению моделей, выделив блоки с целевыми признаками (сведения о тарифе) в отдельные переменные. Сразу же, в целях возможности адекватной поверки проекта, закрепим псевдослучайность для наших алгоритмов, выбрав параметр `random_state` как *888*.   "
   ]
  },
  {
   "cell_type": "code",
   "execution_count": 8,
   "metadata": {},
   "outputs": [],
   "source": [
    "\n",
    "df_tmp, df_test = train_test_split(df, test_size=0.20, random_state=888)\n",
    "df_train, df_valid = train_test_split(df_tmp, test_size=0.25, random_state=888)\n",
    "\n",
    "\n",
    "features_train = df_train.drop(['is_ultra'], axis=1)\n",
    "target_train = df_train['is_ultra']\n",
    "\n",
    "features_valid = df_valid.drop(['is_ultra'], axis=1)\n",
    "target_valid = df_valid['is_ultra']\n",
    "\n",
    "features_test = df_test.drop(['is_ultra'], axis=1)\n",
    "target_test = df_test['is_ultra']"
   ]
  },
  {
   "cell_type": "markdown",
   "metadata": {},
   "source": [
    "**Вывод:** Мы разделили данные на три выбкри (обучающую, валидационную  тестовую), а также выделили целевой признак (тариф). Для определения псевдослучайности использовали аргумент *888*. "
   ]
  },
  {
   "cell_type": "code",
   "execution_count": 9,
   "metadata": {},
   "outputs": [
    {
     "name": "stdout",
     "output_type": "stream",
     "text": [
      "(1928, 5)\n",
      "(643, 5)\n",
      "(643, 5)\n"
     ]
    }
   ],
   "source": [
    "print(df_train.shape)\n",
    "print(df_valid.shape)\n",
    "print(df_test.shape)"
   ]
  },
  {
   "cell_type": "markdown",
   "metadata": {},
   "source": [
    "## Исследуйте модели"
   ]
  },
  {
   "cell_type": "markdown",
   "metadata": {},
   "source": [
    "Приступим к обучению моделей на обучающих выборках и выбору наболее продуктивной модели по параметру `accuracy` по валидационной выборке. Поскольку перед нами стоит типичная задача бинарной классификации, предлагаю использовать следующие модели: дерево решений, случайный лес и логистическую регрессию. "
   ]
  },
  {
   "cell_type": "markdown",
   "metadata": {},
   "source": [
    "Давайте начнем с моделей дерева решений. Закрепим псевдослучайность аргументом *888* и проверим качество обучения по показателю точности (`accuracy`) с указанием в качестве вариантов глубины дерева от **1** до **10**. Также посмотрим изменения качества моделей в завсимости от глубины дерева на графике. "
   ]
  },
  {
   "cell_type": "code",
   "execution_count": 10,
   "metadata": {
    "scrolled": true
   },
   "outputs": [
    {
     "name": "stdout",
     "output_type": "stream",
     "text": [
      "Accuracy наилучшей модели на валидационной выборке: 0.8211508553654744 Глубина дерева: 5\n"
     ]
    },
    {
     "data": {
      "image/png": "[encoded data removed]",
      "text/plain": [
       "<Figure size 432x288 with 1 Axes>"
      ]
     },
     "metadata": {
      "needs_background": "light"
     },
     "output_type": "display_data"
    }
   ],
   "source": [
    "best_model_tree = None\n",
    "best_result_tree = 0\n",
    "best_depth_tree = 0\n",
    "linegraf = []\n",
    "indexgraf = []\n",
    "\n",
    "for depth in range(1, 11):\n",
    "    model_tree = DecisionTreeClassifier(random_state=888, max_depth=depth)\n",
    "    \n",
    "    model_tree.fit(features_train, target_train) \n",
    "    tree_pred = model_tree.predict(features_valid) \n",
    "    \n",
    "    result = metrics.accuracy_score(target_valid, tree_pred) \n",
    "    \n",
    "    if result > best_result_tree:\n",
    "        best_model_tree = model_tree\n",
    "        best_result_tree = result\n",
    "        best_depth_tree = depth\n",
    "    linegraf.append(result) \n",
    "    indexgraf.append(depth)\n",
    "\n",
    "line = pd.Series(linegraf, index=indexgraf)\n",
    "\n",
    "print(\"Accuracy наилучшей модели на валидационной выборке:\", best_result_tree, \"Глубина дерева:\", best_depth_tree)\n",
    "line.plot(title='Уровень Accuracy в зависимости от глубины дерева', xlabel='Глубина дерева', ylabel='Accuracy');"
   ]
  },
  {
   "cell_type": "markdown",
   "metadata": {},
   "source": [
    "Как мы видим, у нас, в целом, получен неплохой результат более 82% модели дерева решений при глубине дерева **5**. Давайте также взглянем на другие показатели качества выбранной модели дерева решений (precision, recall, f1). "
   ]
  },
  {
   "cell_type": "code",
   "execution_count": 11,
   "metadata": {},
   "outputs": [
    {
     "name": "stdout",
     "output_type": "stream",
     "text": [
      "Точность предсказаний тарифа 'Ультра' модели дерева: 0.8717948717948718\n",
      "Точность предсказаний тарифа 'Смарт' модели дерева: 0.8098859315589354\n",
      "Полнота предсказаний модели дерева: 0.504950495049505\n",
      "F1 предсказаний модели дерева: 0.6394984326018809\n"
     ]
    }
   ],
   "source": [
    "tree_pred = best_model_tree.predict(features_valid) \n",
    "\n",
    "print(\"Точность предсказаний тарифа 'Ультра' модели дерева:\", metrics.precision_score(target_valid, tree_pred, pos_label=1))\n",
    "print(\"Точность предсказаний тарифа 'Смарт' модели дерева:\", metrics.precision_score(target_valid, tree_pred, pos_label=0))\n",
    "print(\"Полнота предсказаний модели дерева:\", metrics.recall_score(target_valid, tree_pred))\n",
    "print(\"F1 предсказаний модели дерева:\", metrics.f1_score(target_valid, tree_pred))"
   ]
  },
  {
   "cell_type": "code",
   "execution_count": 12,
   "metadata": {},
   "outputs": [
    {
     "data": {
      "image/png": "[encoded data removed]",
      "text/plain": [
       "<Figure size 432x288 with 1 Axes>"
      ]
     },
     "metadata": {
      "needs_background": "light"
     },
     "output_type": "display_data"
    }
   ],
   "source": [
    "tree.plot_tree(DecisionTreeClassifier(random_state=888, max_depth=3).fit(features_train, target_train), fontsize=7);"
   ]
  },
  {
   "cell_type": "markdown",
   "metadata": {},
   "source": [
    "Как мы видим, с точностью у данной модели дерева решений все обстоит в целом, неплохо, но показатели полноты и f1 несколько хуже.\n",
    "\n",
    "Далее будем обучать модели случайного леса. Закрепим псевдослучайность аргументом *888* и проверим качество обучения по показателю точности (`accuracy`) с указанием в качестве вариантов количетсво оценщиков от **10** до **50** (с шагом **10**) и глубины дерева от **1** до **15**. В параметре `ctiterion` укажем `'gini'` (в дальнешем посмотрим на варианты случайного леса с друим критерием). Также посмотрим изменения качества моделей в завсимости от изменений глубины дерева на графике. "
   ]
  },
  {
   "cell_type": "code",
   "execution_count": 13,
   "metadata": {
    "scrolled": true
   },
   "outputs": [
    {
     "name": "stdout",
     "output_type": "stream",
     "text": [
      "Accuracy наилучшей модели на валидационной выборке: 0.8429237947122862 Количество деревьев: 30 Максимальная глубина: 12\n",
      "CPU times: user 7.12 s, sys: 80.4 ms, total: 7.2 s\n",
      "Wall time: 7.22 s\n"
     ]
    }
   ],
   "source": [
    "%%time\n",
    "best_model_forest = None\n",
    "best_result_forest = 0\n",
    "best_est_forest = 0\n",
    "best_depth_forest = 0\n",
    "\n",
    "lineforest = []\n",
    "indexforest = []\n",
    "counter = 1\n",
    "\n",
    "for est in range(10, 51, 10):\n",
    "    for depth in range (1, 16):\n",
    "        model_forest = RandomForestClassifier(random_state=888, criterion='gini', n_estimators=est, max_depth=depth)\n",
    "        \n",
    "        model_forest.fit(features_train, target_train) \n",
    "        \n",
    "        result = model_forest.score(features_valid, target_valid) \n",
    "        \n",
    "        if result > best_result_forest:\n",
    "            best_model_forest = model_forest\n",
    "            best_result_forest = result\n",
    "            best_est_forest = est\n",
    "            best_depth_forest = depth\n",
    "        \n",
    "        lineforest.append(result)\n",
    "        indexforest.append(counter)\n",
    "        counter += 1\n",
    "\n",
    "line = pd.Series(lineforest, index=indexforest)\n",
    "\n",
    "print(\"Accuracy наилучшей модели на валидационной выборке:\", best_result_forest, \"Количество деревьев:\"\n",
    "      , best_est_forest, \"Максимальная глубина:\", best_depth_forest)"
   ]
  },
  {
   "cell_type": "code",
   "execution_count": 14,
   "metadata": {},
   "outputs": [
    {
     "data": {
      "image/png": "[encoded data removed]",
      "text/plain": [
       "<Figure size 432x288 with 1 Axes>"
      ]
     },
     "metadata": {
      "needs_background": "light"
     },
     "output_type": "display_data"
    }
   ],
   "source": [
    "line.plot(title='Уровень Accuracy в зависимости от количества деревьев и глубины дерева', ylabel='Accuracy');"
   ]
  },
  {
   "cell_type": "raw",
   "metadata": {},
   "source": [
    "   \n",
    "    import plotly.express as px\n",
    "    \n",
    "    xyz = pd.DataFrame([[est, depth, result_valid]], columns=['est', 'depth', 'accuracy'])\n",
    "\n",
    "\n",
    "\n",
    "    print(\"Accuracy наилучшей модели случайного леса:\", best_result)\n",
    "    print(\"n_estimators:\", best_est)\n",
    "    print(\"max_depth:\", best_depth)\n",
    "    fig = px.scatter_3d(xyz, \n",
    "                        x='est', \n",
    "                        y='depth', \n",
    "                        z='accurancy', \n",
    "                        title= 'Зависимость accuracy модели от параметра  ....',\n",
    "                        width=1000,\n",
    "                        height=1000)\n",
    "    fig.show()    \n",
    "    \n"
   ]
  },
  {
   "cell_type": "markdown",
   "metadata": {},
   "source": [
    "Как мы видим, наиучший показатель `accuracy` (более 84%) достигается при 30 деревьях (оценщиках) с глубиной дерева **12**.\n",
    "\n",
    "Теперь взглянем, как работают аналогичные модели случайного леса при указании в параметре `criterion` в качестве аргумента `'entropy'`."
   ]
  },
  {
   "cell_type": "code",
   "execution_count": 15,
   "metadata": {},
   "outputs": [
    {
     "name": "stdout",
     "output_type": "stream",
     "text": [
      "Accuracy наилучшей модели на валидационной выборке: 0.8367029548989113 Количество деревьев: 20 Максимальная глубина: 9\n",
      "CPU times: user 9.29 s, sys: 66.8 ms, total: 9.36 s\n",
      "Wall time: 9.4 s\n"
     ]
    }
   ],
   "source": [
    "%%time\n",
    "best_model_forest_2 = None\n",
    "best_result_forest_2 = 0\n",
    "best_est_forest_2 = 0\n",
    "best_depth_forest_2 = 0\n",
    "\n",
    "lineforest = []\n",
    "indexforest = []\n",
    "counter = 1\n",
    "\n",
    "for est in range(10, 51, 10):\n",
    "    for depth in range (1, 16):\n",
    "        model_forest = RandomForestClassifier(random_state=888, criterion='entropy', n_estimators=est, max_depth=depth)\n",
    "        \n",
    "        model_forest.fit(features_train, target_train) \n",
    "        \n",
    "        result = model_forest.score(features_valid, target_valid) \n",
    "        \n",
    "        if result > best_result_forest_2:\n",
    "            best_model_forest_2 = model_forest\n",
    "            best_result_forest_2 = result\n",
    "            best_est_forest_2 = est\n",
    "            best_depth_forest_2 = depth\n",
    "        \n",
    "        lineforest.append(result)\n",
    "        indexforest.append(counter)\n",
    "        counter += 1\n",
    "\n",
    "line = pd.Series(lineforest, index=indexforest)\n",
    "\n",
    "print(\"Accuracy наилучшей модели на валидационной выборке:\", best_result_forest_2, \"Количество деревьев:\"\n",
    "      , best_est_forest_2, \"Максимальная глубина:\", best_depth_forest_2)"
   ]
  },
  {
   "cell_type": "code",
   "execution_count": 16,
   "metadata": {},
   "outputs": [
    {
     "data": {
      "image/png": "[encoded data removed]",
      "text/plain": [
       "<Figure size 432x288 with 1 Axes>"
      ]
     },
     "metadata": {
      "needs_background": "light"
     },
     "output_type": "display_data"
    }
   ],
   "source": [
    "line.plot(title='Уровень Accuracy в зависимости от количества деревьев и глубины дерева', ylabel='Accuracy');"
   ]
  },
  {
   "cell_type": "markdown",
   "metadata": {},
   "source": [
    "Как видно, наилучший показатель `accuracy` в данном случае достигается при 20 оценщиках с глубиной дерева 9. Но в тоже время данный показатель (83,67%) несколько хуже полученного нами ранее с критерием `'gini'` (84,29%), в связи с чем будем использовать модель случайного леса, полученную ранее. Проверим эту модель по другим показателям качества.  "
   ]
  },
  {
   "cell_type": "code",
   "execution_count": 17,
   "metadata": {},
   "outputs": [
    {
     "name": "stdout",
     "output_type": "stream",
     "text": [
      "Точность предсказаний тарифа 'Ультра' модели случайного леса: 0.8796992481203008\n",
      "Точность предсказаний тарифа 'Смарт' модели случайного леса: 0.8333333333333334\n",
      "Полнота предсказаний модели случайного леса: 0.5792079207920792\n",
      "F1 предсказаний модели случайного леса: 0.698507462686567\n"
     ]
    }
   ],
   "source": [
    "forest_pred = best_model_forest.predict(features_valid) \n",
    "\n",
    "print(\"Точность предсказаний тарифа 'Ультра' модели случайного леса:\", \n",
    "      metrics.precision_score(target_valid, forest_pred, pos_label=1))\n",
    "print(\"Точность предсказаний тарифа 'Смарт' модели случайного леса:\", \n",
    "      metrics.precision_score(target_valid, forest_pred, pos_label=0))\n",
    "print(\"Полнота предсказаний модели случайного леса:\", metrics.recall_score(target_valid, forest_pred))\n",
    "print(\"F1 предсказаний модели случайного леса:\", metrics.f1_score(target_valid, forest_pred))"
   ]
  },
  {
   "cell_type": "markdown",
   "metadata": {},
   "source": [
    "Как мы видим, с точностью у выбранной модели случайного леса все обстоит в целом, неплохо, но показатели полноты и f1 несколько хуже (хотя и лучше, чем у модели дерева решений).\n",
    "\n",
    "Далее обучим модель логистической регрессии, после чего рассмотрим показатели ее качества."
   ]
  },
  {
   "cell_type": "code",
   "execution_count": 18,
   "metadata": {},
   "outputs": [
    {
     "name": "stdout",
     "output_type": "stream",
     "text": [
      "Accuracy модели логической регрессии на валидационной выборке: 0.7076205287713841\n"
     ]
    }
   ],
   "source": [
    "model_logistic = LogisticRegression(random_state=888, solver='liblinear', max_iter=1000)\n",
    "\n",
    "model_logistic.fit(features_train, target_train) \n",
    "logistic_pred = model_logistic.predict(features_valid)\n",
    "result_logistic = model_logistic.score(features_valid, target_valid) \n",
    "\n",
    "print(\"Accuracy модели логической регрессии на валидационной выборке:\", result_logistic)"
   ]
  },
  {
   "cell_type": "code",
   "execution_count": 19,
   "metadata": {},
   "outputs": [
    {
     "name": "stdout",
     "output_type": "stream",
     "text": [
      "Точность предсказаний тарифа 'Ультра' модели логистической регрессии: 0.6944444444444444\n",
      "Точность предсказаний тарифа 'Смарт' модели логистической регрессии: 0.7084019769357496\n",
      "Полнота предсказаний модели логистической регрессии: 0.12376237623762376\n",
      "F1 предсказаний модели логистической регрессии: 0.21008403361344538\n"
     ]
    }
   ],
   "source": [
    "print(\"Точность предсказаний тарифа 'Ультра' модели логистической регрессии:\", \n",
    "      metrics.precision_score(target_valid, logistic_pred, pos_label=1))\n",
    "print(\"Точность предсказаний тарифа 'Смарт' модели логистической регрессии:\", \n",
    "      metrics.precision_score(target_valid, logistic_pred, pos_label=0))\n",
    "print(\"Полнота предсказаний модели логистической регрессии:\", metrics.recall_score(target_valid, logistic_pred))\n",
    "print(\"F1 предсказаний модели логистической регрессии:\", metrics.f1_score(target_valid, logistic_pred))"
   ]
  },
  {
   "cell_type": "markdown",
   "metadata": {},
   "source": [
    "Из результатов обучения модели логистической регрессии видно, что при выборе данной модели результаты ее работы оставляют желать лучшего. Фактически точность данной модели такая же, как и в случае заполнения всех данных целевого признака значением **0** (поскольку количество абонентов тарифа \"Смарт\" около 70%). С показателями полноты и F1 все еще хуже."
   ]
  },
  {
   "cell_type": "markdown",
   "metadata": {},
   "source": [
    "**Вывод:** В результате проведения обучения моделей дерева решений, случайного леса и логистической регрессии и оценки их качества на валидационной выборке, наилучшим вариантом при выборе оптималной модели, является модель случайного леса при **30** деревьях (оценщиках) с глубиной дерева **12**, которая на валидационной выборке дала показатель `accuracy` более 0,8429, который является наиболее высоким среди других моделей."
   ]
  },
  {
   "cell_type": "code",
   "execution_count": 20,
   "metadata": {},
   "outputs": [
    {
     "data": {
      "text/plain": [
       "0.7962674961119751"
      ]
     },
     "execution_count": 20,
     "metadata": {},
     "output_type": "execute_result"
    }
   ],
   "source": [
    "model_forest = RandomForestClassifier(random_state=888, criterion='gini', n_estimators=30, max_depth=12)\n",
    "more_features = pd.concat([features_train, features_valid], axis=0)\n",
    "more_target = pd.concat([target_train, target_valid], axis=0)\n",
    "model_forest.fit(more_features, more_target)\n",
    "        \n",
    "result = model_forest.score(features_test, target_test) \n",
    "result"
   ]
  },
  {
   "cell_type": "markdown",
   "metadata": {},
   "source": [
    "## Проверьте модель на тестовой выборке"
   ]
  },
  {
   "cell_type": "markdown",
   "metadata": {},
   "source": [
    "Итак, проверим выбранную модель по качеству параметра `accuracy` на тестовой выборке."
   ]
  },
  {
   "cell_type": "code",
   "execution_count": 21,
   "metadata": {
    "scrolled": true
   },
   "outputs": [
    {
     "name": "stdout",
     "output_type": "stream",
     "text": [
      "Показатель accuracy модели случайного леса при проверке на тестовой выборке дал результат: 0.8087091757387247\n"
     ]
    }
   ],
   "source": [
    "result = best_model_forest.score(features_test, target_test) \n",
    "print('Показатель accuracy модели случайного леса при проверке на тестовой выборке дал результат:', result)"
   ]
  },
  {
   "cell_type": "markdown",
   "metadata": {},
   "source": [
    "При проверке на тестовой выборке выбранная нами модель случайного леса дала несколько худший результат, чем при анализе по валидационой выборке, но также неплохой - данная модель верно предсказывает результат в 80,87% случаев. Поставленная цель (показатель accuracy выше 0,75) выполнена."
   ]
  },
  {
   "cell_type": "markdown",
   "metadata": {},
   "source": [
    "**Вывод:** При проверке на тестовой выборке модель (**30** оценщиков с глубиной дерева **12**) случайного леса верно предсказала результат в 80,87% случаев. Поставленная цель (показатель accuracy выше 0,75) выполнена."
   ]
  },
  {
   "cell_type": "markdown",
   "metadata": {},
   "source": [
    "## (бонус) Проверьте модели на адекватность"
   ]
  },
  {
   "cell_type": "markdown",
   "metadata": {},
   "source": [
    "Теперь проверим нашу модель на адекватность Поскольку у нас неравномерные данные то нельзя оценивать адекватность модели как получение доли верных предсказаний для бинарной классификации выше 0.5. Для решения данной задачи сравним показатели качества выбранной модели случайного леса (которые у нас уже имеются) с показателями модели, использующей для обучения не входные данные, а наипростейшие действия, например, заполнение значения целевого признака наиболее популярым в выборке. Для этого используем модель `DummyClassifier`заложив в нее в качестве стратегии решения заполнение всех значений целевого признака наиболее популярным ответом.  "
   ]
  },
  {
   "cell_type": "code",
   "execution_count": 22,
   "metadata": {},
   "outputs": [
    {
     "data": {
      "text/plain": [
       "0.6858475894245724"
      ]
     },
     "execution_count": 22,
     "metadata": {},
     "output_type": "execute_result"
    }
   ],
   "source": [
    "dummy = DummyClassifier(strategy='most_frequent').fit(features_train, target_train)\n",
    "dummy_pred = dummy.predict(features_valid)\n",
    "result_dummy = dummy.score(features_valid, target_valid) \n",
    "\n",
    "result_dummy"
   ]
  },
  {
   "cell_type": "code",
   "execution_count": 23,
   "metadata": {},
   "outputs": [
    {
     "data": {
      "text/plain": [
       "0.713841368584759"
      ]
     },
     "execution_count": 23,
     "metadata": {},
     "output_type": "execute_result"
    }
   ],
   "source": [
    "result_dummy = dummy.score(features_test, target_test) \n",
    "result_dummy"
   ]
  },
  {
   "cell_type": "markdown",
   "metadata": {},
   "source": [
    "**Вывод:** Как мы видим выбранная нами модель случайного леса с показателями `accuracy` на валдационной выборке более 0,8429 и тестовой выборке более 0,8087 действительно больше полученного показателя модели `DummyClassifier` (0,6858 на валидационной выборке и 0,7138 на тестовой выборке). Данный факт свидетельствует о том, что выбранная нами модель случайного леса работает адекватно.  "
   ]
  },
  {
   "cell_type": "markdown",
   "metadata": {},
   "source": [
    "## Итоговый вывод:\n",
    "\n",
    "В проекте мы изучили данные, разделили файлы на выборки, исследовали разлчные модели, проверили качество на тестовой выборке, а также провели исследование на вменяемость модели.\n",
    "\n",
    "В результате проведенных действий мы получили наиболее точную модель случайного леса с количеством оценщиков 30 и глубиной дерева 12, которая дает точные предсказания на тестовой выборке в 80,87% случаев. Таким образом, поставленная цель нами была достигнута. "
   ]
  }
 ],
 "metadata": {
  "ExecuteTimeLog": [
   {
    "duration": 2393,
    "start_time": "2023-03-21T06:29:57.503Z"
   },
   {
    "duration": 132,
    "start_time": "2023-03-21T06:29:59.903Z"
   },
   {
    "duration": 13,
    "start_time": "2023-03-21T06:30:00.037Z"
   },
   {
    "duration": 71,
    "start_time": "2023-03-21T06:30:00.053Z"
   },
   {
    "duration": 13,
    "start_time": "2023-03-21T06:30:00.126Z"
   },
   {
    "duration": 11,
    "start_time": "2023-03-21T06:30:00.141Z"
   },
   {
    "duration": 13,
    "start_time": "2023-03-21T06:30:00.154Z"
   },
   {
    "duration": 553,
    "start_time": "2023-03-21T06:30:00.169Z"
   },
   {
    "duration": 15,
    "start_time": "2023-03-21T06:30:00.724Z"
   },
   {
    "duration": 7562,
    "start_time": "2023-03-21T06:30:00.742Z"
   },
   {
    "duration": 8804,
    "start_time": "2023-03-21T06:30:08.306Z"
   },
   {
    "duration": 20,
    "start_time": "2023-03-21T06:30:17.111Z"
   },
   {
    "duration": 13,
    "start_time": "2023-03-21T06:30:17.133Z"
   },
   {
    "duration": 52,
    "start_time": "2023-03-21T06:30:17.148Z"
   },
   {
    "duration": 13,
    "start_time": "2023-03-21T06:30:17.207Z"
   },
   {
    "duration": 14,
    "start_time": "2023-03-21T06:30:17.222Z"
   },
   {
    "duration": 17,
    "start_time": "2023-03-21T06:30:17.239Z"
   },
   {
    "duration": 22,
    "start_time": "2023-03-21T06:30:17.258Z"
   },
   {
    "duration": 1755,
    "start_time": "2023-03-21T16:46:58.129Z"
   },
   {
    "duration": 108,
    "start_time": "2023-03-21T16:46:59.887Z"
   },
   {
    "duration": 18,
    "start_time": "2023-03-21T16:46:59.999Z"
   },
   {
    "duration": 52,
    "start_time": "2023-03-21T16:47:00.021Z"
   },
   {
    "duration": 23,
    "start_time": "2023-03-21T16:47:00.076Z"
   },
   {
    "duration": 43,
    "start_time": "2023-03-21T16:47:00.101Z"
   },
   {
    "duration": 20,
    "start_time": "2023-03-21T16:47:00.152Z"
   },
   {
    "duration": 10,
    "start_time": "2023-03-21T16:47:00.174Z"
   },
   {
    "duration": 29,
    "start_time": "2023-03-21T16:47:00.186Z"
   },
   {
    "duration": 239,
    "start_time": "2023-03-21T16:47:00.227Z"
   },
   {
    "duration": 23,
    "start_time": "2023-03-21T16:47:00.468Z"
   },
   {
    "duration": 536,
    "start_time": "2023-03-21T16:47:00.493Z"
   },
   {
    "duration": 7229,
    "start_time": "2023-03-21T16:47:01.031Z"
   },
   {
    "duration": 163,
    "start_time": "2023-03-21T16:47:08.262Z"
   },
   {
    "duration": 9403,
    "start_time": "2023-03-21T16:47:08.427Z"
   },
   {
    "duration": 142,
    "start_time": "2023-03-21T16:47:17.832Z"
   },
   {
    "duration": 36,
    "start_time": "2023-03-21T16:47:17.975Z"
   },
   {
    "duration": 17,
    "start_time": "2023-03-21T16:47:18.024Z"
   },
   {
    "duration": 12,
    "start_time": "2023-03-21T16:47:18.043Z"
   },
   {
    "duration": 167,
    "start_time": "2023-03-21T16:47:18.058Z"
   },
   {
    "duration": 12,
    "start_time": "2023-03-21T16:47:18.226Z"
   },
   {
    "duration": 8,
    "start_time": "2023-03-21T16:47:18.240Z"
   },
   {
    "duration": 4,
    "start_time": "2023-03-21T16:47:18.250Z"
   }
  ],
  "kernelspec": {
   "display_name": "Python 3 (ipykernel)",
   "language": "python",
   "name": "python3"
  },
  "language_info": {
   "codemirror_mode": {
    "name": "ipython",
    "version": 3
   },
   "file_extension": ".py",
   "mimetype": "text/x-python",
   "name": "python",
   "nbconvert_exporter": "python",
   "pygments_lexer": "ipython3",
   "version": "3.11.5"
  },
  "toc": {
   "base_numbering": 1,
   "nav_menu": {
    "height": "126.99px",
    "width": "518.99px"
   },
   "number_sections": true,
   "sideBar": true,
   "skip_h1_title": true,
   "title_cell": "Table of Contents",
   "title_sidebar": "Contents",
   "toc_cell": false,
   "toc_position": {},
   "toc_section_display": true,
   "toc_window_display": false
  }
 },
 "nbformat": 4,
 "nbformat_minor": 2
}
